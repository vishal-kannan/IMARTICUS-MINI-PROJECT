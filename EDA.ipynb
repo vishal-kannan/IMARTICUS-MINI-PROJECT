{
  "nbformat": 4,
  "nbformat_minor": 0,
  "metadata": {
    "colab": {
      "provenance": [],
      "include_colab_link": true
    },
    "kernelspec": {
      "name": "python3",
      "display_name": "Python 3"
    },
    "language_info": {
      "name": "python"
    }
  },
  "cells": [
    {
      "cell_type": "markdown",
      "metadata": {
        "id": "view-in-github",
        "colab_type": "text"
      },
      "source": [
        "<a href=\"https://colab.research.google.com/github/vishal-kannan/IMARTICUS-MINI-PROJECT/blob/main/EDA.ipynb\" target=\"_parent\"><img src=\"https://colab.research.google.com/assets/colab-badge.svg\" alt=\"Open In Colab\"/></a>"
      ]
    },
    {
      "cell_type": "code",
      "execution_count": 2,
      "metadata": {
        "id": "ODU1Jmhz1BYM"
      },
      "outputs": [],
      "source": [
        "import pandas as pd\n",
        "import numpy as numpy\n",
        "import matplotlib.pyplot as plt\n",
        "import matplotlib.pyplot as plt    \n",
        "import os\n",
        "     \n",
        "ds = pd.read_csv('/content/train.csv')"
      ]
    },
    {
      "cell_type": "code",
      "source": [
        "ds.shape"
      ],
      "metadata": {
        "colab": {
          "base_uri": "https://localhost:8080/"
        },
        "id": "A9gvpOoMYQpz",
        "outputId": "4d311357-02c6-4285-fb7c-a6f3ac3af5ab"
      },
      "execution_count": 3,
      "outputs": [
        {
          "output_type": "execute_result",
          "data": {
            "text/plain": [
              "(2340, 19)"
            ]
          },
          "metadata": {},
          "execution_count": 3
        }
      ]
    },
    {
      "cell_type": "code",
      "source": [
        "ds.info()"
      ],
      "metadata": {
        "colab": {
          "base_uri": "https://localhost:8080/"
        },
        "id": "gq41OXxRYlXy",
        "outputId": "5b8ce865-b3d1-4c79-d08b-21b760b44c23"
      },
      "execution_count": 4,
      "outputs": [
        {
          "output_type": "stream",
          "name": "stdout",
          "text": [
            "<class 'pandas.core.frame.DataFrame'>\n",
            "RangeIndex: 2340 entries, 0 to 2339\n",
            "Data columns (total 19 columns):\n",
            " #   Column                 Non-Null Count  Dtype  \n",
            "---  ------                 --------------  -----  \n",
            " 0   Video_id               2340 non-null   object \n",
            " 1   category_id            2334 non-null   object \n",
            " 2   channel_title          2337 non-null   object \n",
            " 3   subscriber             2320 non-null   float64\n",
            " 4   title                  2337 non-null   object \n",
            " 5   tags                   2245 non-null   object \n",
            " 6   description            2299 non-null   object \n",
            " 7   Trend_day_count        2339 non-null   float64\n",
            " 8   Tag_count              2339 non-null   object \n",
            " 9   Trend_tag_count        2339 non-null   object \n",
            " 10  comment_count          2340 non-null   object \n",
            " 11  comment_disabled       2340 non-null   object \n",
            " 12  like dislike disabled  2340 non-null   object \n",
            " 13  likes                  2340 non-null   object \n",
            " 14  dislike                2340 non-null   object \n",
            " 15  tag appered in title   2338 non-null   object \n",
            " 16  views                  2339 non-null   float64\n",
            " 17  Unnamed: 17            1 non-null      float64\n",
            " 18  Unnamed: 18            1 non-null      object \n",
            "dtypes: float64(4), object(15)\n",
            "memory usage: 347.5+ KB\n"
          ]
        }
      ]
    },
    {
      "cell_type": "code",
      "source": [
        "ds.duplicated().sum()"
      ],
      "metadata": {
        "colab": {
          "base_uri": "https://localhost:8080/"
        },
        "id": "tga63w7KY_mY",
        "outputId": "9450c6c9-fd38-4e3b-c66f-ddbff5477a74"
      },
      "execution_count": 5,
      "outputs": [
        {
          "output_type": "execute_result",
          "data": {
            "text/plain": [
              "0"
            ]
          },
          "metadata": {},
          "execution_count": 5
        }
      ]
    },
    {
      "cell_type": "code",
      "source": [
        "ds[\"views\"] = pd.to_numeric(ds.views, errors='coerce')\n",
        "ds.info()"
      ],
      "metadata": {
        "colab": {
          "base_uri": "https://localhost:8080/"
        },
        "id": "i50qV-IUZD35",
        "outputId": "ef812592-46d2-43dd-89fb-d28be0aae6d1"
      },
      "execution_count": 6,
      "outputs": [
        {
          "output_type": "stream",
          "name": "stdout",
          "text": [
            "<class 'pandas.core.frame.DataFrame'>\n",
            "RangeIndex: 2340 entries, 0 to 2339\n",
            "Data columns (total 19 columns):\n",
            " #   Column                 Non-Null Count  Dtype  \n",
            "---  ------                 --------------  -----  \n",
            " 0   Video_id               2340 non-null   object \n",
            " 1   category_id            2334 non-null   object \n",
            " 2   channel_title          2337 non-null   object \n",
            " 3   subscriber             2320 non-null   float64\n",
            " 4   title                  2337 non-null   object \n",
            " 5   tags                   2245 non-null   object \n",
            " 6   description            2299 non-null   object \n",
            " 7   Trend_day_count        2339 non-null   float64\n",
            " 8   Tag_count              2339 non-null   object \n",
            " 9   Trend_tag_count        2339 non-null   object \n",
            " 10  comment_count          2340 non-null   object \n",
            " 11  comment_disabled       2340 non-null   object \n",
            " 12  like dislike disabled  2340 non-null   object \n",
            " 13  likes                  2340 non-null   object \n",
            " 14  dislike                2340 non-null   object \n",
            " 15  tag appered in title   2338 non-null   object \n",
            " 16  views                  2339 non-null   float64\n",
            " 17  Unnamed: 17            1 non-null      float64\n",
            " 18  Unnamed: 18            1 non-null      object \n",
            "dtypes: float64(4), object(15)\n",
            "memory usage: 347.5+ KB\n"
          ]
        }
      ]
    },
    {
      "cell_type": "code",
      "source": [
        "ds.drop(['Unnamed: 17'],axis=1,inplace=True)\n",
        "ds.drop(['Unnamed: 18'],axis=1,inplace=True)\n"
      ],
      "metadata": {
        "id": "xBOelsUnar8O"
      },
      "execution_count": 7,
      "outputs": []
    },
    {
      "cell_type": "code",
      "source": [
        "ds.describe()"
      ],
      "metadata": {
        "colab": {
          "base_uri": "https://localhost:8080/",
          "height": 300
        },
        "id": "YKq4xL0La2wM",
        "outputId": "7e0b597a-69c1-46a5-8b49-300edfd2be17"
      },
      "execution_count": 8,
      "outputs": [
        {
          "output_type": "execute_result",
          "data": {
            "text/plain": [
              "         subscriber  Trend_day_count         views\n",
              "count  2.320000e+03      2339.000000  2.339000e+03\n",
              "mean   4.151990e+06         8.520735  1.538142e+06\n",
              "std    3.340717e+07        91.815008  2.058206e+07\n",
              "min    0.000000e+00         0.000000  1.000000e+00\n",
              "25%    2.518812e+05         4.000000  4.371495e+05\n",
              "50%    1.325936e+06         7.000000  7.197190e+05\n",
              "75%    3.887713e+06        10.000000  1.245480e+06\n",
              "max    1.576229e+09      4444.000000  9.898735e+08"
            ],
            "text/html": [
              "\n",
              "  <div id=\"df-db3fbca1-8b5e-48f5-9d60-f3e8e49d6f62\">\n",
              "    <div class=\"colab-df-container\">\n",
              "      <div>\n",
              "<style scoped>\n",
              "    .dataframe tbody tr th:only-of-type {\n",
              "        vertical-align: middle;\n",
              "    }\n",
              "\n",
              "    .dataframe tbody tr th {\n",
              "        vertical-align: top;\n",
              "    }\n",
              "\n",
              "    .dataframe thead th {\n",
              "        text-align: right;\n",
              "    }\n",
              "</style>\n",
              "<table border=\"1\" class=\"dataframe\">\n",
              "  <thead>\n",
              "    <tr style=\"text-align: right;\">\n",
              "      <th></th>\n",
              "      <th>subscriber</th>\n",
              "      <th>Trend_day_count</th>\n",
              "      <th>views</th>\n",
              "    </tr>\n",
              "  </thead>\n",
              "  <tbody>\n",
              "    <tr>\n",
              "      <th>count</th>\n",
              "      <td>2.320000e+03</td>\n",
              "      <td>2339.000000</td>\n",
              "      <td>2.339000e+03</td>\n",
              "    </tr>\n",
              "    <tr>\n",
              "      <th>mean</th>\n",
              "      <td>4.151990e+06</td>\n",
              "      <td>8.520735</td>\n",
              "      <td>1.538142e+06</td>\n",
              "    </tr>\n",
              "    <tr>\n",
              "      <th>std</th>\n",
              "      <td>3.340717e+07</td>\n",
              "      <td>91.815008</td>\n",
              "      <td>2.058206e+07</td>\n",
              "    </tr>\n",
              "    <tr>\n",
              "      <th>min</th>\n",
              "      <td>0.000000e+00</td>\n",
              "      <td>0.000000</td>\n",
              "      <td>1.000000e+00</td>\n",
              "    </tr>\n",
              "    <tr>\n",
              "      <th>25%</th>\n",
              "      <td>2.518812e+05</td>\n",
              "      <td>4.000000</td>\n",
              "      <td>4.371495e+05</td>\n",
              "    </tr>\n",
              "    <tr>\n",
              "      <th>50%</th>\n",
              "      <td>1.325936e+06</td>\n",
              "      <td>7.000000</td>\n",
              "      <td>7.197190e+05</td>\n",
              "    </tr>\n",
              "    <tr>\n",
              "      <th>75%</th>\n",
              "      <td>3.887713e+06</td>\n",
              "      <td>10.000000</td>\n",
              "      <td>1.245480e+06</td>\n",
              "    </tr>\n",
              "    <tr>\n",
              "      <th>max</th>\n",
              "      <td>1.576229e+09</td>\n",
              "      <td>4444.000000</td>\n",
              "      <td>9.898735e+08</td>\n",
              "    </tr>\n",
              "  </tbody>\n",
              "</table>\n",
              "</div>\n",
              "      <button class=\"colab-df-convert\" onclick=\"convertToInteractive('df-db3fbca1-8b5e-48f5-9d60-f3e8e49d6f62')\"\n",
              "              title=\"Convert this dataframe to an interactive table.\"\n",
              "              style=\"display:none;\">\n",
              "        \n",
              "  <svg xmlns=\"http://www.w3.org/2000/svg\" height=\"24px\"viewBox=\"0 0 24 24\"\n",
              "       width=\"24px\">\n",
              "    <path d=\"M0 0h24v24H0V0z\" fill=\"none\"/>\n",
              "    <path d=\"M18.56 5.44l.94 2.06.94-2.06 2.06-.94-2.06-.94-.94-2.06-.94 2.06-2.06.94zm-11 1L8.5 8.5l.94-2.06 2.06-.94-2.06-.94L8.5 2.5l-.94 2.06-2.06.94zm10 10l.94 2.06.94-2.06 2.06-.94-2.06-.94-.94-2.06-.94 2.06-2.06.94z\"/><path d=\"M17.41 7.96l-1.37-1.37c-.4-.4-.92-.59-1.43-.59-.52 0-1.04.2-1.43.59L10.3 9.45l-7.72 7.72c-.78.78-.78 2.05 0 2.83L4 21.41c.39.39.9.59 1.41.59.51 0 1.02-.2 1.41-.59l7.78-7.78 2.81-2.81c.8-.78.8-2.07 0-2.86zM5.41 20L4 18.59l7.72-7.72 1.47 1.35L5.41 20z\"/>\n",
              "  </svg>\n",
              "      </button>\n",
              "      \n",
              "  <style>\n",
              "    .colab-df-container {\n",
              "      display:flex;\n",
              "      flex-wrap:wrap;\n",
              "      gap: 12px;\n",
              "    }\n",
              "\n",
              "    .colab-df-convert {\n",
              "      background-color: #E8F0FE;\n",
              "      border: none;\n",
              "      border-radius: 50%;\n",
              "      cursor: pointer;\n",
              "      display: none;\n",
              "      fill: #1967D2;\n",
              "      height: 32px;\n",
              "      padding: 0 0 0 0;\n",
              "      width: 32px;\n",
              "    }\n",
              "\n",
              "    .colab-df-convert:hover {\n",
              "      background-color: #E2EBFA;\n",
              "      box-shadow: 0px 1px 2px rgba(60, 64, 67, 0.3), 0px 1px 3px 1px rgba(60, 64, 67, 0.15);\n",
              "      fill: #174EA6;\n",
              "    }\n",
              "\n",
              "    [theme=dark] .colab-df-convert {\n",
              "      background-color: #3B4455;\n",
              "      fill: #D2E3FC;\n",
              "    }\n",
              "\n",
              "    [theme=dark] .colab-df-convert:hover {\n",
              "      background-color: #434B5C;\n",
              "      box-shadow: 0px 1px 3px 1px rgba(0, 0, 0, 0.15);\n",
              "      filter: drop-shadow(0px 1px 2px rgba(0, 0, 0, 0.3));\n",
              "      fill: #FFFFFF;\n",
              "    }\n",
              "  </style>\n",
              "\n",
              "      <script>\n",
              "        const buttonEl =\n",
              "          document.querySelector('#df-db3fbca1-8b5e-48f5-9d60-f3e8e49d6f62 button.colab-df-convert');\n",
              "        buttonEl.style.display =\n",
              "          google.colab.kernel.accessAllowed ? 'block' : 'none';\n",
              "\n",
              "        async function convertToInteractive(key) {\n",
              "          const element = document.querySelector('#df-db3fbca1-8b5e-48f5-9d60-f3e8e49d6f62');\n",
              "          const dataTable =\n",
              "            await google.colab.kernel.invokeFunction('convertToInteractive',\n",
              "                                                     [key], {});\n",
              "          if (!dataTable) return;\n",
              "\n",
              "          const docLinkHtml = 'Like what you see? Visit the ' +\n",
              "            '<a target=\"_blank\" href=https://colab.research.google.com/notebooks/data_table.ipynb>data table notebook</a>'\n",
              "            + ' to learn more about interactive tables.';\n",
              "          element.innerHTML = '';\n",
              "          dataTable['output_type'] = 'display_data';\n",
              "          await google.colab.output.renderOutput(dataTable, element);\n",
              "          const docLink = document.createElement('div');\n",
              "          docLink.innerHTML = docLinkHtml;\n",
              "          element.appendChild(docLink);\n",
              "        }\n",
              "      </script>\n",
              "    </div>\n",
              "  </div>\n",
              "  "
            ]
          },
          "metadata": {},
          "execution_count": 8
        }
      ]
    },
    {
      "cell_type": "code",
      "source": [
        "ds['category_id'].value_counts()\n"
      ],
      "metadata": {
        "colab": {
          "base_uri": "https://localhost:8080/"
        },
        "id": "i06PWw6VbByq",
        "outputId": "53108f96-5a2b-4642-fc75-5e3e696af81f"
      },
      "execution_count": 9,
      "outputs": [
        {
          "output_type": "execute_result",
          "data": {
            "text/plain": [
              "24     584\n",
              "10     325\n",
              "26     224\n",
              "23     220\n",
              "25     199\n",
              "22     185\n",
              "17     141\n",
              "28     130\n",
              "1      114\n",
              "27      83\n",
              "15      49\n",
              "2       27\n",
              "19      25\n",
              "20      21\n",
              "29       5\n",
              "“24      1\n",
              "43       1\n",
              "Name: category_id, dtype: int64"
            ]
          },
          "metadata": {},
          "execution_count": 9
        }
      ]
    },
    {
      "cell_type": "code",
      "source": [
        "ds['category_id'].value_counts().plot(kind='barh')"
      ],
      "metadata": {
        "colab": {
          "base_uri": "https://localhost:8080/",
          "height": 282
        },
        "id": "sg3aIihHbIiq",
        "outputId": "a551993a-912b-424a-edac-59389d8afe61"
      },
      "execution_count": 10,
      "outputs": [
        {
          "output_type": "execute_result",
          "data": {
            "text/plain": [
              "<matplotlib.axes._subplots.AxesSubplot at 0x7f7b2bb547f0>"
            ]
          },
          "metadata": {},
          "execution_count": 10
        },
        {
          "output_type": "display_data",
          "data": {
            "text/plain": [
              "<Figure size 432x288 with 1 Axes>"
            ],
            "image/png": "[encoded data removed]"
          },
          "metadata": {
            "needs_background": "light"
          }
        }
      ]
    },
    {
      "cell_type": "code",
      "source": [
        "plt.scatter(ds['subscriber'], ds['views'],marker=\"*\", color=\"green\")"
      ],
      "metadata": {
        "colab": {
          "base_uri": "https://localhost:8080/",
          "height": 306
        },
        "id": "0xYcvrhIbYfu",
        "outputId": "f4b296c3-5ffb-499c-96b8-bf88d82010fe"
      },
      "execution_count": 11,
      "outputs": [
        {
          "output_type": "execute_result",
          "data": {
            "text/plain": [
              "<matplotlib.collections.PathCollection at 0x7f7b2b5c9400>"
            ]
          },
          "metadata": {},
          "execution_count": 11
        },
        {
          "output_type": "display_data",
          "data": {
            "text/plain": [
              "<Figure size 432x288 with 1 Axes>"
            ],
            "image/png": "[encoded data removed]"
          },
          "metadata": {
            "needs_background": "light"
          }
        }
      ]
    },
    {
      "cell_type": "code",
      "source": [
        "ds['subscriber'].plot(kind='box')"
      ],
      "metadata": {
        "colab": {
          "base_uri": "https://localhost:8080/",
          "height": 293
        },
        "id": "odbculqTb9qO",
        "outputId": "a3a8cf76-7b95-4dea-943b-1a22b4b50f27"
      },
      "execution_count": 12,
      "outputs": [
        {
          "output_type": "execute_result",
          "data": {
            "text/plain": [
              "<matplotlib.axes._subplots.AxesSubplot at 0x7f7b2b58b220>"
            ]
          },
          "metadata": {},
          "execution_count": 12
        },
        {
          "output_type": "display_data",
          "data": {
            "text/plain": [
              "<Figure size 432x288 with 1 Axes>"
            ],
            "image/png": "[encoded data removed]"
          },
          "metadata": {
            "needs_background": "light"
          }
        }
      ]
    },
    {
      "cell_type": "code",
      "source": [
        "ds.mean()"
      ],
      "metadata": {
        "colab": {
          "base_uri": "https://localhost:8080/"
        },
        "id": "7oJgiChBcA8x",
        "outputId": "0b9e1218-fd0c-4e9a-e77c-d914c80c6144"
      },
      "execution_count": 13,
      "outputs": [
        {
          "output_type": "stream",
          "name": "stderr",
          "text": [
            "<ipython-input-13-15cc8b287185>:1: FutureWarning: Dropping of nuisance columns in DataFrame reductions (with 'numeric_only=None') is deprecated; in a future version this will raise TypeError.  Select only valid columns before calling the reduction.\n",
            "  ds.mean()\n"
          ]
        },
        {
          "output_type": "execute_result",
          "data": {
            "text/plain": [
              "subscriber              4.151990e+06\n",
              "Trend_day_count         8.520735e+00\n",
              "tag appered in title    6.586826e-01\n",
              "views                   1.538142e+06\n",
              "dtype: float64"
            ]
          },
          "metadata": {},
          "execution_count": 13
        }
      ]
    },
    {
      "cell_type": "code",
      "source": [
        "ds.median()"
      ],
      "metadata": {
        "colab": {
          "base_uri": "https://localhost:8080/"
        },
        "id": "BVLMMMyLdGb0",
        "outputId": "d1301282-d17a-462a-bd68-574ea0815fa8"
      },
      "execution_count": 14,
      "outputs": [
        {
          "output_type": "stream",
          "name": "stderr",
          "text": [
            "<ipython-input-14-ce58bc0590e6>:1: FutureWarning: Dropping of nuisance columns in DataFrame reductions (with 'numeric_only=None') is deprecated; in a future version this will raise TypeError.  Select only valid columns before calling the reduction.\n",
            "  ds.median()\n"
          ]
        },
        {
          "output_type": "execute_result",
          "data": {
            "text/plain": [
              "subscriber              1325936.0\n",
              "Trend_day_count               7.0\n",
              "tag appered in title          1.0\n",
              "views                    719719.0\n",
              "dtype: float64"
            ]
          },
          "metadata": {},
          "execution_count": 14
        }
      ]
    }
  ]
}